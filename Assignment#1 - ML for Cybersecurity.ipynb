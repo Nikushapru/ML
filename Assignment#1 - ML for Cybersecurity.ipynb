{
 "cells": [
  {
   "cell_type": "code",
   "execution_count": 2,
   "id": "fc548bad-c8c6-4486-b12b-73f4be31e78b",
   "metadata": {},
   "outputs": []
    }
   ],
   "source": [
    "import numpy as np\n",
    "import pandas as pd\n",
    "import seaborn as sns\n",
    "import matplotlib.pyplot as plt\n",
    "\n",
    "# Step 1: Generate network packet data and save it to a CSV file\n",
    "np.random.seed(0) \n",
    "\n",
    "# Generate random data\n",
    "data = np.random.randn(200, 4)\n",
    "\n",
    "# Write data to CSV file without feature names as the first row\n",
    "np.savetxt(\"network_data.csv\", data, delimiter=\",\")\n",
    "\n",
    "# Step 2: Calculate correlation matrix using Pearson formula\n",
    "df = pd.DataFrame(data)\n",
    "\n",
    "# Calculate correlation matrix\n",
    "correlation_matrix = df.corr()\n",
    "\n",
    "# Step 3: Save correlation matrix to PDF file\n",
    "plt.figure(figsize=(8, 6))\n",
    "sns.heatmap(correlation_matrix, annot=True, cmap='coolwarm', fmt=\".2f\")\n",
    "plt.title('Correlation Matrix')\n",
    "plt.savefig('correlation_matrix.pdf')\n",
    "plt.close()\n",
    "\n",
    "# Step 4: Identify two features with the highest correlation\n",
    "max_corr = correlation_matrix.unstack().sort_values(ascending=False)\n",
    "highest_corr_features = max_corr[max_corr < 1].head(2).index.tolist()\n",
    "\n",
    "# Save names of two features with highest correlation to PDF file\n",
    "with open('highest_correlation.txt', 'w') as f:\n",
    "    f.write(f\"The two features with the highest correlation are: {highest_corr_features[0]} and {highest_corr_features[1]}\")\n"
   ]
  },
  {
   "cell_type": "code",
   "execution_count": null,
   "id": "cb083d70-f4f2-4d1c-90bb-e446b38d3fd2",
   "metadata": {},
   "outputs": [],
   "source": []
  }
 ],
 "metadata": {
  "kernelspec": {
   "display_name": "Python 3 (ipykernel)",
   "language": "python",
   "name": "python3"
  },
  "language_info": {
   "codemirror_mode": {
    "name": "ipython",
    "version": 3
   },
   "file_extension": ".py",
   "mimetype": "text/x-python",
   "name": "python",
   "nbconvert_exporter": "python",
   "pygments_lexer": "ipython3",
   "version": "3.11.7"
  }
 },
 "nbformat": 4,
 "nbformat_minor": 5
}
